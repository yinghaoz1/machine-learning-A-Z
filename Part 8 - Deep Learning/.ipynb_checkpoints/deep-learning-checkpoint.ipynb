{
 "cells": [
  {
   "cell_type": "markdown",
   "metadata": {},
   "source": [
    "# Part 8 Deep Learning\n",
    "## 8.1 Artificial Neural Networks (ANN)\n",
    "### 8.1.1 The Neuron\n",
    "![8-1-1](8-1-1.png)\n",
    "\n",
    "**Input Value**:\n",
    "- The input value contains all of the independent variables (columns) for a single observation.\n",
    "- It should be standardized.\n",
    "\n",
    "**Output Value**:\n",
    "- It can be continuous, binary, and categorical (several output values in the form of dummy variables).\n",
    "\n",
    "The input and output value deals with one observation at every single time.\n",
    "\n",
    "**Synapse**: \n",
    "- It represents the weight for each signal.\n",
    "\n",
    "**Neuron**:\n",
    "- **STEP 1**: Add the weighted sum of all input values $\\sum_{i=1}^m w_ix_i$.\n",
    "- **STEP 2**: Apply the activation function $\\phi(\\sum_{i=1}^m w_ix_i)$.\n",
    "- **STEP 3**: Pass the signal to the next neuron.\n",
    "\n",
    "### 8.1.2 The Activation Function\n",
    "**Threshold Function**:\n",
    "\n",
    "$$\n",
    "\\phi(x)=\n",
    "\\begin{cases}\n",
    "1 \\quad & \\text{if } x\\geq0\\\\\n",
    "0 \\quad & \\text{if } x<0\n",
    "\\end{cases}\n",
    "$$\n",
    "\n",
    "**Threshold Function**:\n",
    "$$\n",
    "\\phi(x)=\\frac{1}{1+e^{-x}}\n",
    "$$\n",
    "\n",
    "**Rectifier Function**:\n",
    "$$\n",
    "\\phi(x)=\\max(x,0)\n",
    "$$\n",
    "\n",
    "**Hyperbolic Tangent (tanh)**:\n",
    "$$\n",
    "\\phi(x)=\\frac{1-e^{-2x}}{1+e^{-2x}}\n",
    "$$\n",
    "\n",
    "### 8.1.3 How Do NNs Learn?\n",
    "- **STEP 1**: Fit the input value of each row into the neural network to compute the output value $\\hat{y}$ for each row.\n",
    "- **STEP 2**: Compare the output value $\\hat{y}$ with the actual value $y$ for each row.\n",
    "- **STEP 3**: Adjust the weights $w_1,w_2,\\dots,w_n$.\n",
    "- **STEP 4**: Do this process again and again in order to find the optimal weights to minimize the cost function.\n",
    "\n",
    "### 8.1.4 Gradient Descent\n",
    "- Batch Gradient Descent: Adjust the weights after running all rows.\n",
    "- Stochastic Gradient Descent: Adjust the weights after running every single row.\n",
    "\n",
    "Stochastic gradient descent an avoid converging to a local optimum. \n",
    "\n",
    "### 8.1.5 Training the ANN with Stochastic Gradient Descent\n",
    "- **STEP 1**: Randomly initialize the weights to the small numbers close to $0$ (but not $0$).\n",
    "- **STEP 2**: Input the first observation of your dataset in the input layer, each feature in one input node.\n",
    "- **STEP 3**: Forward-Propagration: from left to right, the neurons are activated in a way that the impact of each neuron's activation is limited by the weights. Propagate the activations until the predicted result $y$.\n",
    "- **STEP 4**: Compare the predicted result to the actual result. Measure the generated error.\n",
    "- **STEP 5**: Forward-Propagration: from right to left, the error is back-propagated. Update the weights according to how much they are responsible for the error. The learning rate decides by how much we update the weights.\n",
    "- **STEP 6**: Repeat Steps 1 to 5 and update the weights after each observation (reinforcement learning); Repeat Steps 1 to 5 but update the weights only after a batch of observations (batch learning).\n",
    "- **STEP 7**: When the whole training set passed through the ANN, that makes an epoch. Redo more epochs.\n",
    "\n",
    "### 8.1.6 ANN in Python\n",
    "#### 8.1.6.1 Part 1: Data Preprocessing"
   ]
  },
  {
   "cell_type": "code",
   "execution_count": 1,
   "metadata": {},
   "outputs": [],
   "source": [
    "# Importing the libraries\n",
    "import numpy as np\n",
    "import pandas as pd\n",
    "import matplotlib.pyplot as plt"
   ]
  },
  {
   "cell_type": "code",
   "execution_count": 2,
   "metadata": {
    "scrolled": true
   },
   "outputs": [
    {
     "data": {
      "text/html": [
       "<div>\n",
       "<style scoped>\n",
       "    .dataframe tbody tr th:only-of-type {\n",
       "        vertical-align: middle;\n",
       "    }\n",
       "\n",
       "    .dataframe tbody tr th {\n",
       "        vertical-align: top;\n",
       "    }\n",
       "\n",
       "    .dataframe thead th {\n",
       "        text-align: right;\n",
       "    }\n",
       "</style>\n",
       "<table border=\"1\" class=\"dataframe\">\n",
       "  <thead>\n",
       "    <tr style=\"text-align: right;\">\n",
       "      <th></th>\n",
       "      <th>RowNumber</th>\n",
       "      <th>CustomerId</th>\n",
       "      <th>Surname</th>\n",
       "      <th>CreditScore</th>\n",
       "      <th>Geography</th>\n",
       "      <th>Gender</th>\n",
       "      <th>Age</th>\n",
       "      <th>Tenure</th>\n",
       "      <th>Balance</th>\n",
       "      <th>NumOfProducts</th>\n",
       "      <th>HasCrCard</th>\n",
       "      <th>IsActiveMember</th>\n",
       "      <th>EstimatedSalary</th>\n",
       "      <th>Exited</th>\n",
       "    </tr>\n",
       "  </thead>\n",
       "  <tbody>\n",
       "    <tr>\n",
       "      <th>0</th>\n",
       "      <td>1</td>\n",
       "      <td>15634602</td>\n",
       "      <td>Hargrave</td>\n",
       "      <td>619</td>\n",
       "      <td>France</td>\n",
       "      <td>Female</td>\n",
       "      <td>42</td>\n",
       "      <td>2</td>\n",
       "      <td>0.00</td>\n",
       "      <td>1</td>\n",
       "      <td>1</td>\n",
       "      <td>1</td>\n",
       "      <td>101348.88</td>\n",
       "      <td>1</td>\n",
       "    </tr>\n",
       "    <tr>\n",
       "      <th>1</th>\n",
       "      <td>2</td>\n",
       "      <td>15647311</td>\n",
       "      <td>Hill</td>\n",
       "      <td>608</td>\n",
       "      <td>Spain</td>\n",
       "      <td>Female</td>\n",
       "      <td>41</td>\n",
       "      <td>1</td>\n",
       "      <td>83807.86</td>\n",
       "      <td>1</td>\n",
       "      <td>0</td>\n",
       "      <td>1</td>\n",
       "      <td>112542.58</td>\n",
       "      <td>0</td>\n",
       "    </tr>\n",
       "    <tr>\n",
       "      <th>2</th>\n",
       "      <td>3</td>\n",
       "      <td>15619304</td>\n",
       "      <td>Onio</td>\n",
       "      <td>502</td>\n",
       "      <td>France</td>\n",
       "      <td>Female</td>\n",
       "      <td>42</td>\n",
       "      <td>8</td>\n",
       "      <td>159660.80</td>\n",
       "      <td>3</td>\n",
       "      <td>1</td>\n",
       "      <td>0</td>\n",
       "      <td>113931.57</td>\n",
       "      <td>1</td>\n",
       "    </tr>\n",
       "    <tr>\n",
       "      <th>3</th>\n",
       "      <td>4</td>\n",
       "      <td>15701354</td>\n",
       "      <td>Boni</td>\n",
       "      <td>699</td>\n",
       "      <td>France</td>\n",
       "      <td>Female</td>\n",
       "      <td>39</td>\n",
       "      <td>1</td>\n",
       "      <td>0.00</td>\n",
       "      <td>2</td>\n",
       "      <td>0</td>\n",
       "      <td>0</td>\n",
       "      <td>93826.63</td>\n",
       "      <td>0</td>\n",
       "    </tr>\n",
       "    <tr>\n",
       "      <th>4</th>\n",
       "      <td>5</td>\n",
       "      <td>15737888</td>\n",
       "      <td>Mitchell</td>\n",
       "      <td>850</td>\n",
       "      <td>Spain</td>\n",
       "      <td>Female</td>\n",
       "      <td>43</td>\n",
       "      <td>2</td>\n",
       "      <td>125510.82</td>\n",
       "      <td>1</td>\n",
       "      <td>1</td>\n",
       "      <td>1</td>\n",
       "      <td>79084.10</td>\n",
       "      <td>0</td>\n",
       "    </tr>\n",
       "  </tbody>\n",
       "</table>\n",
       "</div>"
      ],
      "text/plain": [
       "   RowNumber  CustomerId   Surname  CreditScore Geography  Gender  Age  \\\n",
       "0          1    15634602  Hargrave          619    France  Female   42   \n",
       "1          2    15647311      Hill          608     Spain  Female   41   \n",
       "2          3    15619304      Onio          502    France  Female   42   \n",
       "3          4    15701354      Boni          699    France  Female   39   \n",
       "4          5    15737888  Mitchell          850     Spain  Female   43   \n",
       "\n",
       "   Tenure    Balance  NumOfProducts  HasCrCard  IsActiveMember  \\\n",
       "0       2       0.00              1          1               1   \n",
       "1       1   83807.86              1          0               1   \n",
       "2       8  159660.80              3          1               0   \n",
       "3       1       0.00              2          0               0   \n",
       "4       2  125510.82              1          1               1   \n",
       "\n",
       "   EstimatedSalary  Exited  \n",
       "0        101348.88       1  \n",
       "1        112542.58       0  \n",
       "2        113931.57       1  \n",
       "3         93826.63       0  \n",
       "4         79084.10       0  "
      ]
     },
     "execution_count": 2,
     "metadata": {},
     "output_type": "execute_result"
    }
   ],
   "source": [
    "# Importing the dataset\n",
    "dataset = pd.read_csv('Churn_Modelling.csv')\n",
    "dataset.head()"
   ]
  },
  {
   "cell_type": "code",
   "execution_count": 3,
   "metadata": {},
   "outputs": [],
   "source": [
    "# Splitting the dataset into the independent and dependent variables\n",
    "X = dataset.iloc[:, 3: -1].to_numpy()\n",
    "y = dataset.iloc[:, -1].to_numpy()"
   ]
  },
  {
   "cell_type": "code",
   "execution_count": 4,
   "metadata": {},
   "outputs": [
    {
     "name": "stderr",
     "output_type": "stream",
     "text": [
      "/Users/zhangyinghao/anaconda3/lib/python3.7/site-packages/sklearn/preprocessing/_encoders.py:415: FutureWarning: The handling of integer data will change in version 0.22. Currently, the categories are determined based on the range [0, max(values)], while in the future they will be determined based on the unique values.\n",
      "If you want the future behaviour and silence this warning, you can specify \"categories='auto'\".\n",
      "In case you used a LabelEncoder before this OneHotEncoder to convert the categories to integers, then you can now use the OneHotEncoder directly.\n",
      "  warnings.warn(msg, FutureWarning)\n",
      "/Users/zhangyinghao/anaconda3/lib/python3.7/site-packages/sklearn/preprocessing/_encoders.py:451: DeprecationWarning: The 'categorical_features' keyword is deprecated in version 0.20 and will be removed in 0.22. You can use the ColumnTransformer instead.\n",
      "  \"use the ColumnTransformer instead.\", DeprecationWarning)\n"
     ]
    }
   ],
   "source": [
    "# Encoding the categorical variables\n",
    "from sklearn.preprocessing import LabelEncoder, OneHotEncoder\n",
    "labelEncoder_X_1 = LabelEncoder()\n",
    "X[:, 1] = labelEncoder_X_1.fit_transform(X[:, 1])\n",
    "labelEncoder_X_2 = LabelEncoder()\n",
    "X[:, 2] = labelEncoder_X_2.fit_transform(X[:, 2])\n",
    "oneHotEncoder = OneHotEncoder(categorical_features=[1])\n",
    "X = oneHotEncoder.fit_transform(X).toarray()\n",
    "X = X[:, 1:]"
   ]
  },
  {
   "cell_type": "code",
   "execution_count": 5,
   "metadata": {},
   "outputs": [],
   "source": [
    "# Splitting the dataset into the training and test set\n",
    "from sklearn.model_selection import train_test_split\n",
    "X_train, X_test, y_train, y_test = train_test_split(X, y, test_size=0.2, random_state=0)"
   ]
  },
  {
   "cell_type": "code",
   "execution_count": 6,
   "metadata": {},
   "outputs": [],
   "source": [
    "# Feature scaling\n",
    "from sklearn.preprocessing import StandardScaler\n",
    "sc = StandardScaler()\n",
    "X_train = sc.fit_transform(X_train)\n",
    "X_test = sc.fit_transform(X_test)"
   ]
  },
  {
   "cell_type": "markdown",
   "metadata": {},
   "source": [
    "#### 8.1.6.2 Part 2: Building the ANN"
   ]
  },
  {
   "cell_type": "code",
   "execution_count": 7,
   "metadata": {},
   "outputs": [
    {
     "name": "stderr",
     "output_type": "stream",
     "text": [
      "Using TensorFlow backend.\n"
     ]
    }
   ],
   "source": [
    "# Importing the Keras libraries and packages\n",
    "import keras\n",
    "from keras.models import Sequential\n",
    "from keras.layers import Dense"
   ]
  },
  {
   "cell_type": "code",
   "execution_count": 8,
   "metadata": {},
   "outputs": [],
   "source": [
    "# Initializing the ANN\n",
    "classifier = Sequential()"
   ]
  },
  {
   "cell_type": "markdown",
   "metadata": {},
   "source": [
    "In `Dense` class, we need to specify:\n",
    "- `init='uniform'`: Initialize the weights randomly and make sure each weight is close to $0$.\n",
    "- `activation`: `relu` for the rectifier function, `sigmoid` for the sigmoid function, and `softmax` for the more than two classes."
   ]
  },
  {
   "cell_type": "code",
   "execution_count": 15,
   "metadata": {},
   "outputs": [],
   "source": [
    "# Adding the input layer and first hiddern layer\n",
    "classifier.add(Dense(units=6, kernel_initializer='uniform', activation='relu', input_dim=11))\n",
    "\n",
    "# Adding the second hidden layer\n",
    "classifier.add(Dense(units=6, kernel_initializer='uniform', activation='relu'))\n",
    "\n",
    "# Adding the output layer\n",
    "classifier.add(Dense(units=1, kernel_initializer='uniform', activation='sigmoid'))"
   ]
  },
  {
   "cell_type": "markdown",
   "metadata": {},
   "source": [
    "In `compile` method, we need to specify:\n",
    "- `optimizer`:Indicate the function to find the best weights, `adam` for stochastic gradient descent. \n",
    "- `loss`: Indicate which cost function is used to minimize the cost. `categorical_crossentropy` for two classes and `sparse_categorical_crossentropy` for more than two categories. \n",
    "- `loss`: The criterion used to evaluate the model. "
   ]
  },
  {
   "cell_type": "code",
   "execution_count": 14,
   "metadata": {},
   "outputs": [],
   "source": [
    "# Compling the ANN\n",
    "classifier.compile(optimizer='adam', loss='binary_crossentropy', metrics=['accuracy'])"
   ]
  },
  {
   "cell_type": "markdown",
   "metadata": {},
   "source": [
    "In `fit` method, we need to specify:\n",
    "- `batch_size`: Number of samples per gradient update.\n",
    "- `nb_epoch`: Number of epochs to train the model."
   ]
  },
  {
   "cell_type": "code",
   "execution_count": 15,
   "metadata": {
    "scrolled": false
   },
   "outputs": [
    {
     "name": "stdout",
     "output_type": "stream",
     "text": [
      "WARNING:tensorflow:From /Users/zhangyinghao/anaconda3/lib/python3.7/site-packages/tensorflow/python/ops/math_ops.py:3066: to_int32 (from tensorflow.python.ops.math_ops) is deprecated and will be removed in a future version.\n",
      "Instructions for updating:\n",
      "Use tf.cast instead.\n"
     ]
    },
    {
     "name": "stderr",
     "output_type": "stream",
     "text": [
      "/Users/zhangyinghao/anaconda3/lib/python3.7/site-packages/ipykernel_launcher.py:2: UserWarning: The `nb_epoch` argument in `fit` has been renamed `epochs`.\n",
      "  \n"
     ]
    },
    {
     "name": "stdout",
     "output_type": "stream",
     "text": [
      "Epoch 1/100\n",
      "8000/8000 [==============================] - 3s 324us/step - loss: 0.5413 - accuracy: 0.7952\n",
      "Epoch 2/100\n",
      "8000/8000 [==============================] - 2s 277us/step - loss: 0.4816 - accuracy: 0.7960\n",
      "Epoch 3/100\n",
      "8000/8000 [==============================] - 2s 289us/step - loss: 0.4630 - accuracy: 0.7960\n",
      "Epoch 4/100\n",
      "8000/8000 [==============================] - 2s 277us/step - loss: 0.4467 - accuracy: 0.7960\n",
      "Epoch 5/100\n",
      "8000/8000 [==============================] - 3s 325us/step - loss: 0.4377 - accuracy: 0.7960\n",
      "Epoch 6/100\n",
      "8000/8000 [==============================] - 3s 320us/step - loss: 0.4317 - accuracy: 0.7960\n",
      "Epoch 7/100\n",
      "8000/8000 [==============================] - 2s 306us/step - loss: 0.4260 - accuracy: 0.7960\n",
      "Epoch 8/100\n",
      "8000/8000 [==============================] - 2s 292us/step - loss: 0.4201 - accuracy: 0.8204\n",
      "Epoch 9/100\n",
      "8000/8000 [==============================] - 2s 292us/step - loss: 0.4152 - accuracy: 0.8298\n",
      "Epoch 10/100\n",
      "8000/8000 [==============================] - 2s 289us/step - loss: 0.4136 - accuracy: 0.8322\n",
      "Epoch 11/100\n",
      "8000/8000 [==============================] - 3s 332us/step - loss: 0.4114 - accuracy: 0.8314\n",
      "Epoch 12/100\n",
      "8000/8000 [==============================] - 3s 323us/step - loss: 0.4099 - accuracy: 0.8322\n",
      "Epoch 13/100\n",
      "8000/8000 [==============================] - 2s 300us/step - loss: 0.4093 - accuracy: 0.8338\n",
      "Epoch 14/100\n",
      "8000/8000 [==============================] - 2s 300us/step - loss: 0.4077 - accuracy: 0.8322\n",
      "Epoch 15/100\n",
      "8000/8000 [==============================] - 2s 292us/step - loss: 0.4068 - accuracy: 0.8342\n",
      "Epoch 16/100\n",
      "8000/8000 [==============================] - 3s 332us/step - loss: 0.4062 - accuracy: 0.8326\n",
      "Epoch 17/100\n",
      "8000/8000 [==============================] - 2s 290us/step - loss: 0.4060 - accuracy: 0.8345\n",
      "Epoch 18/100\n",
      "8000/8000 [==============================] - 2s 283us/step - loss: 0.4050 - accuracy: 0.8357\n",
      "Epoch 19/100\n",
      "8000/8000 [==============================] - 2s 283us/step - loss: 0.4047 - accuracy: 0.8356\n",
      "Epoch 20/100\n",
      "8000/8000 [==============================] - 2s 286us/step - loss: 0.4043 - accuracy: 0.8339\n",
      "Epoch 21/100\n",
      "8000/8000 [==============================] - 3s 313us/step - loss: 0.4037 - accuracy: 0.8344\n",
      "Epoch 22/100\n",
      "8000/8000 [==============================] - 2s 287us/step - loss: 0.4035 - accuracy: 0.8350\n",
      "Epoch 23/100\n",
      "8000/8000 [==============================] - 2s 282us/step - loss: 0.4024 - accuracy: 0.8341\n",
      "Epoch 24/100\n",
      "8000/8000 [==============================] - 2s 278us/step - loss: 0.4022 - accuracy: 0.8347\n",
      "Epoch 25/100\n",
      "8000/8000 [==============================] - 2s 276us/step - loss: 0.4025 - accuracy: 0.8329\n",
      "Epoch 26/100\n",
      "8000/8000 [==============================] - 2s 281us/step - loss: 0.4012 - accuracy: 0.8339\n",
      "Epoch 27/100\n",
      "8000/8000 [==============================] - 2s 297us/step - loss: 0.4016 - accuracy: 0.8367\n",
      "Epoch 28/100\n",
      "8000/8000 [==============================] - 2s 298us/step - loss: 0.4019 - accuracy: 0.8354\n",
      "Epoch 29/100\n",
      "8000/8000 [==============================] - 2s 294us/step - loss: 0.4015 - accuracy: 0.8341\n",
      "Epoch 30/100\n",
      "8000/8000 [==============================] - 2s 277us/step - loss: 0.4014 - accuracy: 0.8361\n",
      "Epoch 31/100\n",
      "8000/8000 [==============================] - 2s 301us/step - loss: 0.4011 - accuracy: 0.8351\n",
      "Epoch 32/100\n",
      "8000/8000 [==============================] - 2s 282us/step - loss: 0.4011 - accuracy: 0.8335\n",
      "Epoch 33/100\n",
      "8000/8000 [==============================] - 2s 296us/step - loss: 0.4000 - accuracy: 0.8366\n",
      "Epoch 34/100\n",
      "8000/8000 [==============================] - 2s 288us/step - loss: 0.4006 - accuracy: 0.8370\n",
      "Epoch 35/100\n",
      "8000/8000 [==============================] - 2s 283us/step - loss: 0.4002 - accuracy: 0.8354\n",
      "Epoch 36/100\n",
      "8000/8000 [==============================] - 2s 282us/step - loss: 0.4004 - accuracy: 0.8355\n",
      "Epoch 37/100\n",
      "8000/8000 [==============================] - 2s 284us/step - loss: 0.4003 - accuracy: 0.8364\n",
      "Epoch 38/100\n",
      "8000/8000 [==============================] - 2s 281us/step - loss: 0.3999 - accuracy: 0.8332\n",
      "Epoch 39/100\n",
      "8000/8000 [==============================] - 2s 278us/step - loss: 0.3999 - accuracy: 0.8356\n",
      "Epoch 40/100\n",
      "8000/8000 [==============================] - 2s 276us/step - loss: 0.4000 - accuracy: 0.8354\n",
      "Epoch 41/100\n",
      "8000/8000 [==============================] - 2s 304us/step - loss: 0.3998 - accuracy: 0.8355\n",
      "Epoch 42/100\n",
      "8000/8000 [==============================] - 2s 285us/step - loss: 0.3998 - accuracy: 0.8360\n",
      "Epoch 43/100\n",
      "8000/8000 [==============================] - 2s 275us/step - loss: 0.3994 - accuracy: 0.8344\n",
      "Epoch 44/100\n",
      "8000/8000 [==============================] - 2s 284us/step - loss: 0.3995 - accuracy: 0.8366\n",
      "Epoch 45/100\n",
      "8000/8000 [==============================] - 2s 281us/step - loss: 0.3999 - accuracy: 0.8375\n",
      "Epoch 46/100\n",
      "8000/8000 [==============================] - 2s 276us/step - loss: 0.3997 - accuracy: 0.8364\n",
      "Epoch 47/100\n",
      "8000/8000 [==============================] - 2s 269us/step - loss: 0.3994 - accuracy: 0.8339\n",
      "Epoch 48/100\n",
      "8000/8000 [==============================] - 2s 298us/step - loss: 0.3990 - accuracy: 0.8376\n",
      "Epoch 49/100\n",
      "8000/8000 [==============================] - 2s 276us/step - loss: 0.3995 - accuracy: 0.8357\n",
      "Epoch 50/100\n",
      "8000/8000 [==============================] - 2s 279us/step - loss: 0.3994 - accuracy: 0.8361\n",
      "Epoch 51/100\n",
      "8000/8000 [==============================] - 2s 282us/step - loss: 0.3996 - accuracy: 0.8370\n",
      "Epoch 52/100\n",
      "8000/8000 [==============================] - 2s 276us/step - loss: 0.3995 - accuracy: 0.8378\n",
      "Epoch 53/100\n",
      "8000/8000 [==============================] - 2s 287us/step - loss: 0.3992 - accuracy: 0.8355\n",
      "Epoch 54/100\n",
      "8000/8000 [==============================] - 2s 299us/step - loss: 0.3990 - accuracy: 0.8366\n",
      "Epoch 55/100\n",
      "8000/8000 [==============================] - 2s 299us/step - loss: 0.3992 - accuracy: 0.8372\n",
      "Epoch 56/100\n",
      "8000/8000 [==============================] - 3s 347us/step - loss: 0.3990 - accuracy: 0.8379\n",
      "Epoch 57/100\n",
      "8000/8000 [==============================] - 2s 307us/step - loss: 0.3981 - accuracy: 0.8360\n",
      "Epoch 58/100\n",
      "8000/8000 [==============================] - 2s 308us/step - loss: 0.3986 - accuracy: 0.8354\n",
      "Epoch 59/100\n",
      "8000/8000 [==============================] - 3s 326us/step - loss: 0.3991 - accuracy: 0.8351\n",
      "Epoch 60/100\n",
      "8000/8000 [==============================] - 2s 292us/step - loss: 0.3987 - accuracy: 0.8378\n",
      "Epoch 61/100\n",
      "8000/8000 [==============================] - 2s 300us/step - loss: 0.3989 - accuracy: 0.8347\n",
      "Epoch 62/100\n",
      "8000/8000 [==============================] - 2s 297us/step - loss: 0.3984 - accuracy: 0.8361\n",
      "Epoch 63/100\n",
      "8000/8000 [==============================] - 2s 287us/step - loss: 0.3984 - accuracy: 0.8369\n",
      "Epoch 64/100\n",
      "8000/8000 [==============================] - 2s 298us/step - loss: 0.3986 - accuracy: 0.8353\n",
      "Epoch 65/100\n",
      "8000/8000 [==============================] - 2s 299us/step - loss: 0.3989 - accuracy: 0.8356\n",
      "Epoch 66/100\n",
      "8000/8000 [==============================] - 2s 300us/step - loss: 0.3988 - accuracy: 0.8335\n",
      "Epoch 67/100\n",
      "8000/8000 [==============================] - 2s 298us/step - loss: 0.3987 - accuracy: 0.8360\n",
      "Epoch 68/100\n",
      "8000/8000 [==============================] - 2s 295us/step - loss: 0.3983 - accuracy: 0.8359\n",
      "Epoch 69/100\n",
      "8000/8000 [==============================] - 2s 293us/step - loss: 0.3985 - accuracy: 0.8347\n",
      "Epoch 70/100\n",
      "8000/8000 [==============================] - 2s 311us/step - loss: 0.3982 - accuracy: 0.8370\n",
      "Epoch 71/100\n",
      "8000/8000 [==============================] - 3s 331us/step - loss: 0.3984 - accuracy: 0.8347\n",
      "Epoch 72/100\n",
      "8000/8000 [==============================] - 3s 316us/step - loss: 0.3981 - accuracy: 0.8357\n",
      "Epoch 73/100\n",
      "8000/8000 [==============================] - 2s 295us/step - loss: 0.3983 - accuracy: 0.8369\n",
      "Epoch 74/100\n",
      "8000/8000 [==============================] - 3s 337us/step - loss: 0.3985 - accuracy: 0.8359\n",
      "Epoch 75/100\n",
      "8000/8000 [==============================] - 2s 294us/step - loss: 0.3975 - accuracy: 0.8359\n",
      "Epoch 76/100\n",
      "8000/8000 [==============================] - 3s 322us/step - loss: 0.3981 - accuracy: 0.8369\n",
      "Epoch 77/100\n",
      "8000/8000 [==============================] - 3s 319us/step - loss: 0.3984 - accuracy: 0.8357\n",
      "Epoch 78/100\n",
      "8000/8000 [==============================] - 2s 309us/step - loss: 0.3985 - accuracy: 0.8341\n",
      "Epoch 79/100\n",
      "8000/8000 [==============================] - 3s 322us/step - loss: 0.3984 - accuracy: 0.8364\n",
      "Epoch 80/100\n",
      "8000/8000 [==============================] - 2s 307us/step - loss: 0.3985 - accuracy: 0.8354\n",
      "Epoch 81/100\n",
      "8000/8000 [==============================] - 2s 295us/step - loss: 0.3980 - accuracy: 0.8370\n",
      "Epoch 82/100\n",
      "8000/8000 [==============================] - 2s 305us/step - loss: 0.3980 - accuracy: 0.8380\n",
      "Epoch 83/100\n",
      "8000/8000 [==============================] - 2s 297us/step - loss: 0.3979 - accuracy: 0.8363\n",
      "Epoch 84/100\n",
      "8000/8000 [==============================] - 2s 296us/step - loss: 0.3980 - accuracy: 0.8359\n",
      "Epoch 85/100\n",
      "8000/8000 [==============================] - 2s 306us/step - loss: 0.3979 - accuracy: 0.8360\n",
      "Epoch 86/100\n",
      "8000/8000 [==============================] - 3s 332us/step - loss: 0.3975 - accuracy: 0.8360\n",
      "Epoch 87/100\n",
      "8000/8000 [==============================] - 2s 307us/step - loss: 0.3977 - accuracy: 0.8364\n",
      "Epoch 88/100\n",
      "8000/8000 [==============================] - 2s 283us/step - loss: 0.3978 - accuracy: 0.8361\n",
      "Epoch 89/100\n",
      "8000/8000 [==============================] - 3s 325us/step - loss: 0.3977 - accuracy: 0.8369\n",
      "Epoch 90/100\n",
      "8000/8000 [==============================] - 3s 318us/step - loss: 0.3970 - accuracy: 0.8346\n",
      "Epoch 91/100\n",
      "8000/8000 [==============================] - 2s 283us/step - loss: 0.3971 - accuracy: 0.8350\n",
      "Epoch 92/100\n",
      "8000/8000 [==============================] - 2s 291us/step - loss: 0.3978 - accuracy: 0.8359\n",
      "Epoch 93/100\n",
      "8000/8000 [==============================] - 2s 281us/step - loss: 0.3973 - accuracy: 0.8379\n",
      "Epoch 94/100\n",
      "8000/8000 [==============================] - 2s 291us/step - loss: 0.3974 - accuracy: 0.8371\n",
      "Epoch 95/100\n",
      "8000/8000 [==============================] - 2s 288us/step - loss: 0.3973 - accuracy: 0.8365\n",
      "Epoch 96/100\n",
      "8000/8000 [==============================] - 2s 295us/step - loss: 0.3974 - accuracy: 0.8364\n",
      "Epoch 97/100\n",
      "8000/8000 [==============================] - 2s 294us/step - loss: 0.3974 - accuracy: 0.8367\n",
      "Epoch 98/100\n",
      "8000/8000 [==============================] - 2s 297us/step - loss: 0.3977 - accuracy: 0.8361\n",
      "Epoch 99/100\n",
      "8000/8000 [==============================] - 2s 292us/step - loss: 0.3973 - accuracy: 0.8363\n",
      "Epoch 100/100\n",
      "8000/8000 [==============================] - 2s 312us/step - loss: 0.3972 - accuracy: 0.8342\n"
     ]
    },
    {
     "data": {
      "text/plain": [
       "<keras.callbacks.callbacks.History at 0x1a29589780>"
      ]
     },
     "execution_count": 15,
     "metadata": {},
     "output_type": "execute_result"
    }
   ],
   "source": [
    "# Fitting the ANN to the training set\n",
    "classifier.fit(X_train, y_train, batch_size=10, epochs=100)"
   ]
  },
  {
   "cell_type": "markdown",
   "metadata": {},
   "source": [
    "#### 8.1.6.3 Part 3: Making the Predictions and Evaluating the Models"
   ]
  },
  {
   "cell_type": "code",
   "execution_count": 20,
   "metadata": {},
   "outputs": [
    {
     "data": {
      "text/plain": [
       "array([[False],\n",
       "       [False],\n",
       "       [False],\n",
       "       ...,\n",
       "       [False],\n",
       "       [False],\n",
       "       [False]])"
      ]
     },
     "execution_count": 20,
     "metadata": {},
     "output_type": "execute_result"
    }
   ],
   "source": [
    "# Predicting the test set results\n",
    "y_pred = classifier.predict(X_test)\n",
    "y_pred = (y_pred > 0.5)\n",
    "y_pred"
   ]
  },
  {
   "cell_type": "code",
   "execution_count": 27,
   "metadata": {},
   "outputs": [
    {
     "data": {
      "text/plain": [
       "array([[1531,   64],\n",
       "       [ 256,  149]])"
      ]
     },
     "execution_count": 27,
     "metadata": {},
     "output_type": "execute_result"
    }
   ],
   "source": [
    "# Making the confustion matrix and calculating the scores\n",
    "from sklearn.metrics import confusion_matrix, accuracy_score, precision_score, recall_score, f1_score\n",
    "cm = confusion_matrix(y_test, y_pred)\n",
    "cm"
   ]
  },
  {
   "cell_type": "code",
   "execution_count": 28,
   "metadata": {},
   "outputs": [
    {
     "name": "stdout",
     "output_type": "stream",
     "text": [
      "Accuracy: 0.84\n",
      "Precision: 0.6995305164319249\n",
      "Recall: 0.36790123456790125\n",
      "F1 Score: 0.482200647249191\n"
     ]
    }
   ],
   "source": [
    "print('Accuracy:', accuracy_score(y_test, y_pred))\n",
    "print('Precision:', precision_score(y_test, y_pred))\n",
    "print('Recall:', recall_score(y_test, y_pred))\n",
    "print('F1 Score:', f1_score(y_test, y_pred))"
   ]
  },
  {
   "cell_type": "markdown",
   "metadata": {},
   "source": [
    "## 8.2 Convolutional Neural Network (CNN)\n",
    "### 8.2.1 STEP 1: Convolution\n",
    "\n",
    "$$(f*g)(t):=\\int_{-\\infty}^{\\infty}f(\\tau)g(t-\\tau)d\\tau$$\n",
    "\n",
    "![8-2-1](8-2-1.png)\n",
    "![8-2-2](8-2-2.png)\n",
    "\n",
    "### 8.2.2 STEP 1(B): ReLULayer\n",
    "The function of ReLULayer is to remove the linearity among different pixels.\n",
    "\n",
    "![8-2-3](8-2-3.png)\n",
    "\n",
    "### 8.2.3 STEP 2: Pooling\n",
    "Pooling is useful to \n",
    "- Identify features despite distortion and tilt of the image\n",
    "- Reduce the size of the image\n",
    "- Avoid overfitting\n",
    "- Preserve the main feature of the original image\n",
    "\n",
    "![8-2-4](8-2-4.png)\n",
    "\n",
    "### 8.2.4 STEP 3: Flattening\n",
    "![8-2-5](8-2-5.png)\n",
    "\n",
    "### 8.2.5 STEP 4: Full Connection\n",
    "![8-2-6](8-2-6.png)\n",
    "\n",
    "### 8.2.6 Summary\n",
    "![8-2-7](8-2-7.png)\n",
    "\n",
    "### 8.2.7 STEP 5: Softmax & Cross-Entropy\n",
    "![8-2-8](8-2-8.png)\n",
    "\n",
    "Overall, the cross-entropy function is more significant than MSE and more suitable for CNN.\n",
    "\n",
    "![8-2-9](8-2-9.png)\n",
    "\n",
    "### 8.2.8 CNN in Python\n",
    "#### 8.2.8.1 Building the CNN"
   ]
  },
  {
   "cell_type": "code",
   "execution_count": 25,
   "metadata": {},
   "outputs": [],
   "source": [
    "# Importing the Keras libraries and packages\n",
    "from keras.models import Sequential\n",
    "from keras.layers import Conv2D\n",
    "from keras.layers import MaxPooling2D\n",
    "from keras.layers import Flatten\n",
    "from keras.layers import Dense"
   ]
  },
  {
   "cell_type": "code",
   "execution_count": 26,
   "metadata": {},
   "outputs": [],
   "source": [
    "# Initializing the CNN\n",
    "classifier = Sequential()"
   ]
  },
  {
   "cell_type": "code",
   "execution_count": 27,
   "metadata": {},
   "outputs": [],
   "source": [
    "# Step 1 - Convolution\n",
    "classifier.add(Conv2D(32, (3, 3), input_shape=(64, 64, 3), activation='relu'))"
   ]
  },
  {
   "cell_type": "code",
   "execution_count": 28,
   "metadata": {},
   "outputs": [],
   "source": [
    "# Step 2 - Pooling\n",
    "classifier.add(MaxPooling2D(pool_size=(2, 2)))\n",
    "\n",
    "# Adding the second convolutional layer\n",
    "classifier.add(Conv2D(32, (3, 3), activation='relu'))\n",
    "classifier.add(MaxPooling2D(pool_size=(2, 2)))"
   ]
  },
  {
   "cell_type": "code",
   "execution_count": 29,
   "metadata": {},
   "outputs": [],
   "source": [
    "# Step 3 - Flattening\n",
    "classifier.add(Flatten())"
   ]
  },
  {
   "cell_type": "code",
   "execution_count": 30,
   "metadata": {},
   "outputs": [],
   "source": [
    "# Step 4 - Full Connection\n",
    "classifier.add(Dense(activation='relu', units=128))\n",
    "classifier.add(Dense(activation='sigmoid', units=1))"
   ]
  },
  {
   "cell_type": "code",
   "execution_count": 31,
   "metadata": {},
   "outputs": [],
   "source": [
    "# Compiling the CNN\n",
    "classifier.compile(optimizer='adam', loss='binary_crossentropy', metrics=['accuracy'])"
   ]
  },
  {
   "cell_type": "markdown",
   "metadata": {},
   "source": [
    "#### 8.2.8.2 Part 2: Fitting the CNN to the images"
   ]
  },
  {
   "cell_type": "code",
   "execution_count": 32,
   "metadata": {},
   "outputs": [
    {
     "name": "stdout",
     "output_type": "stream",
     "text": [
      "Found 8000 images belonging to 2 classes.\n",
      "Found 2000 images belonging to 2 classes.\n",
      "Epoch 1/25\n",
      "  23/8000 [..............................] - ETA: 49:27 - loss: 0.7063 - accuracy: 0.5122"
     ]
    },
    {
     "ename": "KeyboardInterrupt",
     "evalue": "",
     "output_type": "error",
     "traceback": [
      "\u001b[0;31m---------------------------------------------------------------------------\u001b[0m",
      "\u001b[0;31mKeyboardInterrupt\u001b[0m                         Traceback (most recent call last)",
      "\u001b[0;32m<ipython-input-32-746fa9276e5b>\u001b[0m in \u001b[0;36m<module>\u001b[0;34m\u001b[0m\n\u001b[1;32m     27\u001b[0m         \u001b[0mepochs\u001b[0m\u001b[0;34m=\u001b[0m\u001b[0;36m25\u001b[0m\u001b[0;34m,\u001b[0m\u001b[0;34m\u001b[0m\u001b[0;34m\u001b[0m\u001b[0m\n\u001b[1;32m     28\u001b[0m         \u001b[0mvalidation_data\u001b[0m\u001b[0;34m=\u001b[0m\u001b[0mtest_set\u001b[0m\u001b[0;34m,\u001b[0m\u001b[0;34m\u001b[0m\u001b[0;34m\u001b[0m\u001b[0m\n\u001b[0;32m---> 29\u001b[0;31m         validation_steps=2000)\n\u001b[0m",
      "\u001b[0;32m~/anaconda3/lib/python3.7/site-packages/keras/legacy/interfaces.py\u001b[0m in \u001b[0;36mwrapper\u001b[0;34m(*args, **kwargs)\u001b[0m\n\u001b[1;32m     89\u001b[0m                 warnings.warn('Update your `' + object_name + '` call to the ' +\n\u001b[1;32m     90\u001b[0m                               'Keras 2 API: ' + signature, stacklevel=2)\n\u001b[0;32m---> 91\u001b[0;31m             \u001b[0;32mreturn\u001b[0m \u001b[0mfunc\u001b[0m\u001b[0;34m(\u001b[0m\u001b[0;34m*\u001b[0m\u001b[0margs\u001b[0m\u001b[0;34m,\u001b[0m \u001b[0;34m**\u001b[0m\u001b[0mkwargs\u001b[0m\u001b[0;34m)\u001b[0m\u001b[0;34m\u001b[0m\u001b[0;34m\u001b[0m\u001b[0m\n\u001b[0m\u001b[1;32m     92\u001b[0m         \u001b[0mwrapper\u001b[0m\u001b[0;34m.\u001b[0m\u001b[0m_original_function\u001b[0m \u001b[0;34m=\u001b[0m \u001b[0mfunc\u001b[0m\u001b[0;34m\u001b[0m\u001b[0;34m\u001b[0m\u001b[0m\n\u001b[1;32m     93\u001b[0m         \u001b[0;32mreturn\u001b[0m \u001b[0mwrapper\u001b[0m\u001b[0;34m\u001b[0m\u001b[0;34m\u001b[0m\u001b[0m\n",
      "\u001b[0;32m~/anaconda3/lib/python3.7/site-packages/keras/engine/training.py\u001b[0m in \u001b[0;36mfit_generator\u001b[0;34m(self, generator, steps_per_epoch, epochs, verbose, callbacks, validation_data, validation_steps, validation_freq, class_weight, max_queue_size, workers, use_multiprocessing, shuffle, initial_epoch)\u001b[0m\n\u001b[1;32m   1730\u001b[0m             \u001b[0muse_multiprocessing\u001b[0m\u001b[0;34m=\u001b[0m\u001b[0muse_multiprocessing\u001b[0m\u001b[0;34m,\u001b[0m\u001b[0;34m\u001b[0m\u001b[0;34m\u001b[0m\u001b[0m\n\u001b[1;32m   1731\u001b[0m             \u001b[0mshuffle\u001b[0m\u001b[0;34m=\u001b[0m\u001b[0mshuffle\u001b[0m\u001b[0;34m,\u001b[0m\u001b[0;34m\u001b[0m\u001b[0;34m\u001b[0m\u001b[0m\n\u001b[0;32m-> 1732\u001b[0;31m             initial_epoch=initial_epoch)\n\u001b[0m\u001b[1;32m   1733\u001b[0m \u001b[0;34m\u001b[0m\u001b[0m\n\u001b[1;32m   1734\u001b[0m     \u001b[0;34m@\u001b[0m\u001b[0minterfaces\u001b[0m\u001b[0;34m.\u001b[0m\u001b[0mlegacy_generator_methods_support\u001b[0m\u001b[0;34m\u001b[0m\u001b[0;34m\u001b[0m\u001b[0m\n",
      "\u001b[0;32m~/anaconda3/lib/python3.7/site-packages/keras/engine/training_generator.py\u001b[0m in \u001b[0;36mfit_generator\u001b[0;34m(model, generator, steps_per_epoch, epochs, verbose, callbacks, validation_data, validation_steps, validation_freq, class_weight, max_queue_size, workers, use_multiprocessing, shuffle, initial_epoch)\u001b[0m\n\u001b[1;32m    183\u001b[0m             \u001b[0mbatch_index\u001b[0m \u001b[0;34m=\u001b[0m \u001b[0;36m0\u001b[0m\u001b[0;34m\u001b[0m\u001b[0;34m\u001b[0m\u001b[0m\n\u001b[1;32m    184\u001b[0m             \u001b[0;32mwhile\u001b[0m \u001b[0msteps_done\u001b[0m \u001b[0;34m<\u001b[0m \u001b[0msteps_per_epoch\u001b[0m\u001b[0;34m:\u001b[0m\u001b[0;34m\u001b[0m\u001b[0;34m\u001b[0m\u001b[0m\n\u001b[0;32m--> 185\u001b[0;31m                 \u001b[0mgenerator_output\u001b[0m \u001b[0;34m=\u001b[0m \u001b[0mnext\u001b[0m\u001b[0;34m(\u001b[0m\u001b[0moutput_generator\u001b[0m\u001b[0;34m)\u001b[0m\u001b[0;34m\u001b[0m\u001b[0;34m\u001b[0m\u001b[0m\n\u001b[0m\u001b[1;32m    186\u001b[0m \u001b[0;34m\u001b[0m\u001b[0m\n\u001b[1;32m    187\u001b[0m                 \u001b[0;32mif\u001b[0m \u001b[0;32mnot\u001b[0m \u001b[0mhasattr\u001b[0m\u001b[0;34m(\u001b[0m\u001b[0mgenerator_output\u001b[0m\u001b[0;34m,\u001b[0m \u001b[0;34m'__len__'\u001b[0m\u001b[0;34m)\u001b[0m\u001b[0;34m:\u001b[0m\u001b[0;34m\u001b[0m\u001b[0;34m\u001b[0m\u001b[0m\n",
      "\u001b[0;32m~/anaconda3/lib/python3.7/site-packages/keras/utils/data_utils.py\u001b[0m in \u001b[0;36mget\u001b[0;34m(self)\u001b[0m\n\u001b[1;32m    608\u001b[0m                 \u001b[0;32mtry\u001b[0m\u001b[0;34m:\u001b[0m\u001b[0;34m\u001b[0m\u001b[0;34m\u001b[0m\u001b[0m\n\u001b[1;32m    609\u001b[0m                     \u001b[0mfuture\u001b[0m \u001b[0;34m=\u001b[0m \u001b[0mself\u001b[0m\u001b[0;34m.\u001b[0m\u001b[0mqueue\u001b[0m\u001b[0;34m.\u001b[0m\u001b[0mget\u001b[0m\u001b[0;34m(\u001b[0m\u001b[0mblock\u001b[0m\u001b[0;34m=\u001b[0m\u001b[0;32mTrue\u001b[0m\u001b[0;34m)\u001b[0m\u001b[0;34m\u001b[0m\u001b[0;34m\u001b[0m\u001b[0m\n\u001b[0;32m--> 610\u001b[0;31m                     \u001b[0minputs\u001b[0m \u001b[0;34m=\u001b[0m \u001b[0mfuture\u001b[0m\u001b[0;34m.\u001b[0m\u001b[0mget\u001b[0m\u001b[0;34m(\u001b[0m\u001b[0mtimeout\u001b[0m\u001b[0;34m=\u001b[0m\u001b[0;36m30\u001b[0m\u001b[0;34m)\u001b[0m\u001b[0;34m\u001b[0m\u001b[0;34m\u001b[0m\u001b[0m\n\u001b[0m\u001b[1;32m    611\u001b[0m                 \u001b[0;32mexcept\u001b[0m \u001b[0mmp\u001b[0m\u001b[0;34m.\u001b[0m\u001b[0mTimeoutError\u001b[0m\u001b[0;34m:\u001b[0m\u001b[0;34m\u001b[0m\u001b[0;34m\u001b[0m\u001b[0m\n\u001b[1;32m    612\u001b[0m                     \u001b[0midx\u001b[0m \u001b[0;34m=\u001b[0m \u001b[0mfuture\u001b[0m\u001b[0;34m.\u001b[0m\u001b[0midx\u001b[0m\u001b[0;34m\u001b[0m\u001b[0;34m\u001b[0m\u001b[0m\n",
      "\u001b[0;32m~/anaconda3/lib/python3.7/multiprocessing/pool.py\u001b[0m in \u001b[0;36mget\u001b[0;34m(self, timeout)\u001b[0m\n\u001b[1;32m    649\u001b[0m \u001b[0;34m\u001b[0m\u001b[0m\n\u001b[1;32m    650\u001b[0m     \u001b[0;32mdef\u001b[0m \u001b[0mget\u001b[0m\u001b[0;34m(\u001b[0m\u001b[0mself\u001b[0m\u001b[0;34m,\u001b[0m \u001b[0mtimeout\u001b[0m\u001b[0;34m=\u001b[0m\u001b[0;32mNone\u001b[0m\u001b[0;34m)\u001b[0m\u001b[0;34m:\u001b[0m\u001b[0;34m\u001b[0m\u001b[0;34m\u001b[0m\u001b[0m\n\u001b[0;32m--> 651\u001b[0;31m         \u001b[0mself\u001b[0m\u001b[0;34m.\u001b[0m\u001b[0mwait\u001b[0m\u001b[0;34m(\u001b[0m\u001b[0mtimeout\u001b[0m\u001b[0;34m)\u001b[0m\u001b[0;34m\u001b[0m\u001b[0;34m\u001b[0m\u001b[0m\n\u001b[0m\u001b[1;32m    652\u001b[0m         \u001b[0;32mif\u001b[0m \u001b[0;32mnot\u001b[0m \u001b[0mself\u001b[0m\u001b[0;34m.\u001b[0m\u001b[0mready\u001b[0m\u001b[0;34m(\u001b[0m\u001b[0;34m)\u001b[0m\u001b[0;34m:\u001b[0m\u001b[0;34m\u001b[0m\u001b[0;34m\u001b[0m\u001b[0m\n\u001b[1;32m    653\u001b[0m             \u001b[0;32mraise\u001b[0m \u001b[0mTimeoutError\u001b[0m\u001b[0;34m\u001b[0m\u001b[0;34m\u001b[0m\u001b[0m\n",
      "\u001b[0;32m~/anaconda3/lib/python3.7/multiprocessing/pool.py\u001b[0m in \u001b[0;36mwait\u001b[0;34m(self, timeout)\u001b[0m\n\u001b[1;32m    646\u001b[0m \u001b[0;34m\u001b[0m\u001b[0m\n\u001b[1;32m    647\u001b[0m     \u001b[0;32mdef\u001b[0m \u001b[0mwait\u001b[0m\u001b[0;34m(\u001b[0m\u001b[0mself\u001b[0m\u001b[0;34m,\u001b[0m \u001b[0mtimeout\u001b[0m\u001b[0;34m=\u001b[0m\u001b[0;32mNone\u001b[0m\u001b[0;34m)\u001b[0m\u001b[0;34m:\u001b[0m\u001b[0;34m\u001b[0m\u001b[0;34m\u001b[0m\u001b[0m\n\u001b[0;32m--> 648\u001b[0;31m         \u001b[0mself\u001b[0m\u001b[0;34m.\u001b[0m\u001b[0m_event\u001b[0m\u001b[0;34m.\u001b[0m\u001b[0mwait\u001b[0m\u001b[0;34m(\u001b[0m\u001b[0mtimeout\u001b[0m\u001b[0;34m)\u001b[0m\u001b[0;34m\u001b[0m\u001b[0;34m\u001b[0m\u001b[0m\n\u001b[0m\u001b[1;32m    649\u001b[0m \u001b[0;34m\u001b[0m\u001b[0m\n\u001b[1;32m    650\u001b[0m     \u001b[0;32mdef\u001b[0m \u001b[0mget\u001b[0m\u001b[0;34m(\u001b[0m\u001b[0mself\u001b[0m\u001b[0;34m,\u001b[0m \u001b[0mtimeout\u001b[0m\u001b[0;34m=\u001b[0m\u001b[0;32mNone\u001b[0m\u001b[0;34m)\u001b[0m\u001b[0;34m:\u001b[0m\u001b[0;34m\u001b[0m\u001b[0;34m\u001b[0m\u001b[0m\n",
      "\u001b[0;32m~/anaconda3/lib/python3.7/threading.py\u001b[0m in \u001b[0;36mwait\u001b[0;34m(self, timeout)\u001b[0m\n\u001b[1;32m    550\u001b[0m             \u001b[0msignaled\u001b[0m \u001b[0;34m=\u001b[0m \u001b[0mself\u001b[0m\u001b[0;34m.\u001b[0m\u001b[0m_flag\u001b[0m\u001b[0;34m\u001b[0m\u001b[0;34m\u001b[0m\u001b[0m\n\u001b[1;32m    551\u001b[0m             \u001b[0;32mif\u001b[0m \u001b[0;32mnot\u001b[0m \u001b[0msignaled\u001b[0m\u001b[0;34m:\u001b[0m\u001b[0;34m\u001b[0m\u001b[0;34m\u001b[0m\u001b[0m\n\u001b[0;32m--> 552\u001b[0;31m                 \u001b[0msignaled\u001b[0m \u001b[0;34m=\u001b[0m \u001b[0mself\u001b[0m\u001b[0;34m.\u001b[0m\u001b[0m_cond\u001b[0m\u001b[0;34m.\u001b[0m\u001b[0mwait\u001b[0m\u001b[0;34m(\u001b[0m\u001b[0mtimeout\u001b[0m\u001b[0;34m)\u001b[0m\u001b[0;34m\u001b[0m\u001b[0;34m\u001b[0m\u001b[0m\n\u001b[0m\u001b[1;32m    553\u001b[0m             \u001b[0;32mreturn\u001b[0m \u001b[0msignaled\u001b[0m\u001b[0;34m\u001b[0m\u001b[0;34m\u001b[0m\u001b[0m\n\u001b[1;32m    554\u001b[0m \u001b[0;34m\u001b[0m\u001b[0m\n",
      "\u001b[0;32m~/anaconda3/lib/python3.7/threading.py\u001b[0m in \u001b[0;36mwait\u001b[0;34m(self, timeout)\u001b[0m\n\u001b[1;32m    298\u001b[0m             \u001b[0;32melse\u001b[0m\u001b[0;34m:\u001b[0m\u001b[0;34m\u001b[0m\u001b[0;34m\u001b[0m\u001b[0m\n\u001b[1;32m    299\u001b[0m                 \u001b[0;32mif\u001b[0m \u001b[0mtimeout\u001b[0m \u001b[0;34m>\u001b[0m \u001b[0;36m0\u001b[0m\u001b[0;34m:\u001b[0m\u001b[0;34m\u001b[0m\u001b[0;34m\u001b[0m\u001b[0m\n\u001b[0;32m--> 300\u001b[0;31m                     \u001b[0mgotit\u001b[0m \u001b[0;34m=\u001b[0m \u001b[0mwaiter\u001b[0m\u001b[0;34m.\u001b[0m\u001b[0macquire\u001b[0m\u001b[0;34m(\u001b[0m\u001b[0;32mTrue\u001b[0m\u001b[0;34m,\u001b[0m \u001b[0mtimeout\u001b[0m\u001b[0;34m)\u001b[0m\u001b[0;34m\u001b[0m\u001b[0;34m\u001b[0m\u001b[0m\n\u001b[0m\u001b[1;32m    301\u001b[0m                 \u001b[0;32melse\u001b[0m\u001b[0;34m:\u001b[0m\u001b[0;34m\u001b[0m\u001b[0;34m\u001b[0m\u001b[0m\n\u001b[1;32m    302\u001b[0m                     \u001b[0mgotit\u001b[0m \u001b[0;34m=\u001b[0m \u001b[0mwaiter\u001b[0m\u001b[0;34m.\u001b[0m\u001b[0macquire\u001b[0m\u001b[0;34m(\u001b[0m\u001b[0;32mFalse\u001b[0m\u001b[0;34m)\u001b[0m\u001b[0;34m\u001b[0m\u001b[0;34m\u001b[0m\u001b[0m\n",
      "\u001b[0;31mKeyboardInterrupt\u001b[0m: "
     ]
    }
   ],
   "source": [
    "# Fitting the CNN to the images\n",
    "from keras.preprocessing.image import ImageDataGenerator\n",
    "\n",
    "train_datagen = ImageDataGenerator(\n",
    "        rescale=1./255,\n",
    "        shear_range=0.2,\n",
    "        zoom_range=0.2,\n",
    "        horizontal_flip=True)\n",
    "\n",
    "test_datagen = ImageDataGenerator(rescale=1./255)\n",
    "\n",
    "training_set = train_datagen.flow_from_directory(\n",
    "        'training_set',\n",
    "        target_size=(64, 64),\n",
    "        batch_size=32,\n",
    "        class_mode='binary')\n",
    "\n",
    "test_set = test_datagen.flow_from_directory(\n",
    "        'test_set',\n",
    "        target_size=(64, 64),\n",
    "        batch_size=32,\n",
    "        class_mode='binary')\n",
    "\n",
    "classifier.fit_generator(\n",
    "        training_set,\n",
    "        steps_per_epoch=8000,\n",
    "        epochs=25,\n",
    "        validation_data=test_set,\n",
    "        validation_steps=2000)"
   ]
  },
  {
   "cell_type": "code",
   "execution_count": null,
   "metadata": {},
   "outputs": [],
   "source": []
  }
 ],
 "metadata": {
  "kernelspec": {
   "display_name": "Python 3",
   "language": "python",
   "name": "python3"
  },
  "language_info": {
   "codemirror_mode": {
    "name": "ipython",
    "version": 3
   },
   "file_extension": ".py",
   "mimetype": "text/x-python",
   "name": "python",
   "nbconvert_exporter": "python",
   "pygments_lexer": "ipython3",
   "version": "3.7.3"
  }
 },
 "nbformat": 4,
 "nbformat_minor": 2
}
