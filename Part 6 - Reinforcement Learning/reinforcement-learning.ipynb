{
 "cells": [
  {
   "cell_type": "markdown",
   "metadata": {},
   "source": [
    "# Part 6 Reinforcement Learning"
   ]
  },
  {
   "cell_type": "code",
   "execution_count": 1,
   "metadata": {},
   "outputs": [],
   "source": [
    "# Importing the dataset\n",
    "import numpy as np\n",
    "import pandas as pd\n",
    "import matplotlib.pyplot as plt"
   ]
  },
  {
   "cell_type": "code",
   "execution_count": 2,
   "metadata": {
    "scrolled": true
   },
   "outputs": [
    {
     "data": {
      "text/html": [
       "<div>\n",
       "<style scoped>\n",
       "    .dataframe tbody tr th:only-of-type {\n",
       "        vertical-align: middle;\n",
       "    }\n",
       "\n",
       "    .dataframe tbody tr th {\n",
       "        vertical-align: top;\n",
       "    }\n",
       "\n",
       "    .dataframe thead th {\n",
       "        text-align: right;\n",
       "    }\n",
       "</style>\n",
       "<table border=\"1\" class=\"dataframe\">\n",
       "  <thead>\n",
       "    <tr style=\"text-align: right;\">\n",
       "      <th></th>\n",
       "      <th>Ad 1</th>\n",
       "      <th>Ad 2</th>\n",
       "      <th>Ad 3</th>\n",
       "      <th>Ad 4</th>\n",
       "      <th>Ad 5</th>\n",
       "      <th>Ad 6</th>\n",
       "      <th>Ad 7</th>\n",
       "      <th>Ad 8</th>\n",
       "      <th>Ad 9</th>\n",
       "      <th>Ad 10</th>\n",
       "    </tr>\n",
       "  </thead>\n",
       "  <tbody>\n",
       "    <tr>\n",
       "      <th>0</th>\n",
       "      <td>1</td>\n",
       "      <td>0</td>\n",
       "      <td>0</td>\n",
       "      <td>0</td>\n",
       "      <td>1</td>\n",
       "      <td>0</td>\n",
       "      <td>0</td>\n",
       "      <td>0</td>\n",
       "      <td>1</td>\n",
       "      <td>0</td>\n",
       "    </tr>\n",
       "    <tr>\n",
       "      <th>1</th>\n",
       "      <td>0</td>\n",
       "      <td>0</td>\n",
       "      <td>0</td>\n",
       "      <td>0</td>\n",
       "      <td>0</td>\n",
       "      <td>0</td>\n",
       "      <td>0</td>\n",
       "      <td>0</td>\n",
       "      <td>1</td>\n",
       "      <td>0</td>\n",
       "    </tr>\n",
       "    <tr>\n",
       "      <th>2</th>\n",
       "      <td>0</td>\n",
       "      <td>0</td>\n",
       "      <td>0</td>\n",
       "      <td>0</td>\n",
       "      <td>0</td>\n",
       "      <td>0</td>\n",
       "      <td>0</td>\n",
       "      <td>0</td>\n",
       "      <td>0</td>\n",
       "      <td>0</td>\n",
       "    </tr>\n",
       "    <tr>\n",
       "      <th>3</th>\n",
       "      <td>0</td>\n",
       "      <td>1</td>\n",
       "      <td>0</td>\n",
       "      <td>0</td>\n",
       "      <td>0</td>\n",
       "      <td>0</td>\n",
       "      <td>0</td>\n",
       "      <td>1</td>\n",
       "      <td>0</td>\n",
       "      <td>0</td>\n",
       "    </tr>\n",
       "    <tr>\n",
       "      <th>4</th>\n",
       "      <td>0</td>\n",
       "      <td>0</td>\n",
       "      <td>0</td>\n",
       "      <td>0</td>\n",
       "      <td>0</td>\n",
       "      <td>0</td>\n",
       "      <td>0</td>\n",
       "      <td>0</td>\n",
       "      <td>0</td>\n",
       "      <td>0</td>\n",
       "    </tr>\n",
       "  </tbody>\n",
       "</table>\n",
       "</div>"
      ],
      "text/plain": [
       "   Ad 1  Ad 2  Ad 3  Ad 4  Ad 5  Ad 6  Ad 7  Ad 8  Ad 9  Ad 10\n",
       "0     1     0     0     0     1     0     0     0     1      0\n",
       "1     0     0     0     0     0     0     0     0     1      0\n",
       "2     0     0     0     0     0     0     0     0     0      0\n",
       "3     0     1     0     0     0     0     0     1     0      0\n",
       "4     0     0     0     0     0     0     0     0     0      0"
      ]
     },
     "execution_count": 2,
     "metadata": {},
     "output_type": "execute_result"
    }
   ],
   "source": [
    "# Importing the dataset\n",
    "dataset = pd.read_csv('Ads_CTR_Optimisation.csv')\n",
    "dataset.head()"
   ]
  },
  {
   "cell_type": "markdown",
   "metadata": {},
   "source": [
    "We firstly use random selection algorithm to see the total reward."
   ]
  },
  {
   "cell_type": "code",
   "execution_count": 3,
   "metadata": {},
   "outputs": [
    {
     "data": {
      "text/plain": [
       "1199"
      ]
     },
     "execution_count": 3,
     "metadata": {},
     "output_type": "execute_result"
    }
   ],
   "source": [
    "# Implementing random selection\n",
    "import random\n",
    "N = 10000\n",
    "d = 10\n",
    "ads_selected = []\n",
    "total_reward = 0\n",
    "for n in range(0, N):\n",
    "    ad = random.randrange(d)\n",
    "    ads_selected.append(ad)\n",
    "    reward = dataset.iloc[n, ad]\n",
    "    total_reward += reward\n",
    "\n",
    "total_reward    "
   ]
  },
  {
   "cell_type": "code",
   "execution_count": 4,
   "metadata": {},
   "outputs": [
    {
     "data": {
      "image/png": "[encoded data removed]",
      "text/plain": [
       "<Figure size 432x288 with 1 Axes>"
      ]
     },
     "metadata": {
      "needs_background": "light"
     },
     "output_type": "display_data"
    }
   ],
   "source": [
    "# Visualizing the results\n",
    "plt.hist(ads_selected)\n",
    "plt.title('Histogram of Ads Selections (Random Selection)')\n",
    "plt.xlabel('Ads')\n",
    "plt.ylabel('Number of Times Each Ad Were Selected')\n",
    "plt.show()"
   ]
  },
  {
   "cell_type": "markdown",
   "metadata": {},
   "source": [
    "## 6.1 Upper Confidence Bound (UCB)\n",
    "### 6.1.1 The Multi-Armed Bandit Problem\n",
    "- We have $d$ arms. For example, arms are ads that we display to users each time they connect to a web page.\n",
    "- Each times a user connects to this web page, that makes a round.\n",
    "- At each round $n$, we choose one ad to display to the user.\n",
    "- At each round $n$, ad $i$ gives reward $r_i(n)\\in\\{0,1\\}$ if the user clicked on ad $i$, $0$ if the user didn't.\n",
    "- Our goal is to maximize the total reward we get over many rounds.\n",
    "\n",
    "### 6.1.2 UCB Intuition\n",
    "- **STEP 1**: At each round $n$, we consider two numbers for each ad $i$:\n",
    "    - $N_i(n)$ - the number of times the ad $i$ was selected up to round $n$.\n",
    "    - $R_i(n)$ - the sum of rewards of the ad $i$ up to round $n$.\n",
    "\n",
    "\n",
    "- **STEP 2**: From these two numbers we compute:\n",
    "    - the average reward of ad $i$ up to round $n$:\n",
    "    \n",
    "    $$\\bar{r}_i(n)=\\frac{R_i(n)}{N_i(n)}$$\n",
    "    \n",
    "    - the confidence interval $[\\bar{r}_i(n)-\\Delta_i(n), \\bar{r}_i(n)+\\Delta_i(n)]$ at around $n$ with\n",
    "    \n",
    "    $$\\Delta_i(n)=\\sqrt{\\frac{3}{2}\\frac{\\log(n)}{N_i(n)}}$$\n",
    "\n",
    "\n",
    "- **STEP 3**: We select the ad $i$ has the maximum UCB $\\bar{r}_i(n)+\\Delta_i(n)$.\n",
    "\n",
    "### 6.1.3 UCB in Python"
   ]
  },
  {
   "cell_type": "code",
   "execution_count": 5,
   "metadata": {},
   "outputs": [
    {
     "data": {
      "text/plain": [
       "2178"
      ]
     },
     "execution_count": 5,
     "metadata": {},
     "output_type": "execute_result"
    }
   ],
   "source": [
    "# Implementing UCB\n",
    "import math\n",
    "\n",
    "N = 10000\n",
    "d = 10\n",
    "ads_selected = []\n",
    "numbers_of_selections = [0] * d\n",
    "sums_of_rewards = [0] * d\n",
    "total_reward = 0\n",
    "for n in range(0, N):\n",
    "    ad = 0\n",
    "    max_upper_bound = 0\n",
    "    '''\n",
    "    This for loop is used to decide which ad will be selected, with the condition that each ad will be selected one \n",
    "    by one in the first 10 round.\n",
    "    '''\n",
    "    for i in range(0, d):\n",
    "        if numbers_of_selections[i] > 0:\n",
    "            average_reward = sums_of_rewards[i] / numbers_of_selections[i]\n",
    "            delta_i = math.sqrt(3/2 * math.log(n + 1) / numbers_of_selections[i])\n",
    "            upper_bound = average_reward + delta_i\n",
    "        else:\n",
    "            upper_bound = 1e400\n",
    "        if upper_bound > max_upper_bound:\n",
    "            max_upper_bound = upper_bound\n",
    "            ad = i\n",
    "    ads_selected.append(ad)\n",
    "    numbers_of_selections[ad] += 1\n",
    "    reward = dataset.iloc[n, ad]\n",
    "    sums_of_rewards[ad] += reward\n",
    "    total_reward += reward\n",
    "\n",
    "total_reward"
   ]
  },
  {
   "cell_type": "code",
   "execution_count": 6,
   "metadata": {},
   "outputs": [
    {
     "data": {
      "image/png": "[encoded data removed]",
      "text/plain": [
       "<Figure size 432x288 with 1 Axes>"
      ]
     },
     "metadata": {
      "needs_background": "light"
     },
     "output_type": "display_data"
    }
   ],
   "source": [
    "# Visualizing the results\n",
    "plt.hist(ads_selected)\n",
    "plt.title('Histogram of Ads Selections (UCB)')\n",
    "plt.xlabel('Ads')\n",
    "plt.ylabel('Number of Times Each Ad Were Selected')\n",
    "plt.show()"
   ]
  },
  {
   "cell_type": "markdown",
   "metadata": {},
   "source": [
    "## 6.2 Thompson Sampling\n",
    "### 6.2.1 Thompson Sampling Intuition\n",
    "- **STEP 1**: At each round $n$, we consider two numbers for each ad $i$:\n",
    "    - $N_i^1(n)$ - the number of times the ad $i$ got reward $1$ up to round $n$.\n",
    "    - $N_i^0(n)$ - the number of times the ad $i$ got reward $0$ up to round $n$.\n",
    "    \n",
    "    \n",
    "- **STEP 2**: For each ad $i$, we take an random draw from the distribution below:\n",
    "\n",
    "$$\\theta_i(n)=\\beta(N_i^1(n)+1,N_i^0(n)+1)$$\n",
    "\n",
    "- **STEP 3**: We select the ad that has the highest $\\theta_i(n)$.\n",
    "\n",
    "In Thompson sampling, we build the distributions to guess where we think $\\mu^*$ values will be. We are NOT trying to guess the distributions behind the machines.\n",
    "\n",
    "### 6.2.2 Bayesian Inference\n",
    "- Ad $i$ gets rewards $y$ from Bernoulli distribution $p(y|\\theta_i)\\sim B(\\theta_i)$.\n",
    "- $\\theta_i$ is unknown but we set its uncertainty by assuming it has a uniform distribution $p(\\theta_i)\\sim U([0,1]), which is the prior distribution$\n",
    "- Bayes rules: we approach $\\theta_i$ by the posterior distribution:\n",
    "\n",
    "$$p(\\theta_i|y)=\\frac{p(y|\\theta_i)p(\\theta_i)}{\\int p(y|\\theta_i)p(\\theta_i)d\\theta_i}\\propto p(y|\\theta_i)p(\\theta_i)$$\n",
    "\n",
    "where $p(\\theta_i|y)$ is the posterior distribution,$p(y|\\theta_i)$ is the likelihood function, and $p(\\theta_i)$ is the prior distribution.\n",
    "\n",
    "- We get $p(\\theta_i|y)\\sim \\beta(\\text{number of successes}+1,\\text{number of failures}+1)$\n",
    "- At each round $n$ we take a random draw $\\theta_i(n)$ from this posterior distribution $p(\\theta_i|y)$, for each id $i$.\n",
    "- At each round $n$ we select ad $i$ that has the highest $\\theta_i(n)$.\n",
    "\n",
    "### 6.2.3 Algorithm Comparison: UCB & Thompson Sampling\n",
    "- **UCB**:\n",
    "    - Deterministic\n",
    "    - Require update at every round\n",
    "    \n",
    "    \n",
    "- **Thompson Sampling**:\n",
    "    - Probabilistic\n",
    "    - Can accomodate delayed feedback\n",
    "    - Better empirical evidence\n",
    "\n",
    "### 6.2.4 Thompson Sampling in Python"
   ]
  },
  {
   "cell_type": "code",
   "execution_count": 7,
   "metadata": {},
   "outputs": [
    {
     "data": {
      "text/plain": [
       "2539"
      ]
     },
     "execution_count": 7,
     "metadata": {},
     "output_type": "execute_result"
    }
   ],
   "source": [
    "# Implementing Thompson sampling\n",
    "import random\n",
    "\n",
    "N = 10000\n",
    "d = 10\n",
    "ads_selected = []\n",
    "numbers_of_rewards_1 = [0] * d\n",
    "numbers_of_rewards_0 = [0] * d\n",
    "total_reward = 0\n",
    "for n in range(0, N):\n",
    "    ad = 0\n",
    "    max_random = 0\n",
    "    for i in range(0, d):\n",
    "        random_beta = random.betavariate(numbers_of_rewards_1[i] + 1, numbers_of_rewards_0[i] + 1)\n",
    "        if random_beta > max_random:\n",
    "            max_random = random_beta\n",
    "            ad = i\n",
    "    ads_selected.append(ad)\n",
    "    reward = dataset.iloc[n, ad]\n",
    "    if reward == 1:\n",
    "        numbers_of_rewards_1[ad] += 1\n",
    "    else:\n",
    "        numbers_of_rewards_0[ad] += 1\n",
    "    total_reward += reward\n",
    "\n",
    "total_reward"
   ]
  },
  {
   "cell_type": "markdown",
   "metadata": {},
   "source": [
    "Obviously, Thompson sampling beats UCB in this case."
   ]
  },
  {
   "cell_type": "code",
   "execution_count": 8,
   "metadata": {},
   "outputs": [
    {
     "data": {
      "image/png": "[encoded data removed]",
      "text/plain": [
       "<Figure size 432x288 with 1 Axes>"
      ]
     },
     "metadata": {
      "needs_background": "light"
     },
     "output_type": "display_data"
    }
   ],
   "source": [
    "# Visualizing the results\n",
    "plt.hist(ads_selected)\n",
    "plt.title('Histogram of Ads Selections (Thompson Sampling)')\n",
    "plt.xlabel('Ads')\n",
    "plt.ylabel('Number of Times Each Ad Were Selected')\n",
    "plt.show()"
   ]
  }
 ],
 "metadata": {
  "kernelspec": {
   "display_name": "Python 3",
   "language": "python",
   "name": "python3"
  },
  "language_info": {
   "codemirror_mode": {
    "name": "ipython",
    "version": 3
   },
   "file_extension": ".py",
   "mimetype": "text/x-python",
   "name": "python",
   "nbconvert_exporter": "python",
   "pygments_lexer": "ipython3",
   "version": "3.7.3"
  }
 },
 "nbformat": 4,
 "nbformat_minor": 2
}
